{
 "cells": [
  {
   "cell_type": "code",
   "execution_count": 1,
   "metadata": {},
   "outputs": [],
   "source": [
    "import uproot\n",
    "from glob import glob\n",
    "import numpy as np\n",
    "import matplotlib.pyplot as plt\n",
    "import mplhep"
   ]
  },
  {
   "cell_type": "code",
   "execution_count": 2,
   "metadata": {},
   "outputs": [],
   "source": [
    "files = glob(\"/ceph/cms/store/mc/Run3Summer22EENanoAODv12/TTto2L2Nu_TuneCP5_13p6TeV_powheg-pythia8/NANOAODSIM/130X_mcRun3_2022_realistic_postEE_v6-v2/25*/*.root\")"
   ]
  },
  {
   "cell_type": "code",
   "execution_count": 3,
   "metadata": {},
   "outputs": [],
   "source": [
    "total = 0\n",
    "sub_gen_weights = 0\n",
    "for file in files:\n",
    "    with uproot.open(file) as f:\n",
    "        sub_gen_weights += sum(f.get(\"Events\")['genWeight'].array())\n",
    "        total += f.get(\"Runs\")['genEventSumw'].array()[0]"
   ]
  },
  {
   "cell_type": "code",
   "execution_count": 4,
   "metadata": {},
   "outputs": [
    {
     "data": {
      "text/plain": [
       "1417357887.633"
      ]
     },
     "execution_count": 4,
     "metadata": {},
     "output_type": "execute_result"
    }
   ],
   "source": [
    "round(total,3)"
   ]
  },
  {
   "cell_type": "code",
   "execution_count": null,
   "metadata": {},
   "outputs": [],
   "source": [
    "files_data = glob(\"/ceph/cms/store/data/Run2022G/MuonEG/NANOAOD/22Sep2023-v1/*/*.root\")"
   ]
  },
  {
   "cell_type": "code",
   "execution_count": null,
   "metadata": {},
   "outputs": [],
   "source": [
    "total = 0\n",
    "for data_f in files_data:\n",
    "    with uproot.open(data_f) as f:\n",
    "        total += f.get(\"Events\").num_entries"
   ]
  },
  {
   "cell_type": "code",
   "execution_count": null,
   "metadata": {},
   "outputs": [],
   "source": [
    "not (total - 6238527) # number from DAS "
   ]
  },
  {
   "cell_type": "code",
   "execution_count": null,
   "metadata": {},
   "outputs": [],
   "source": [
    "hists = uproot.open(\"../output/hists.root\")\n",
    "pileup_hist = uproot.open(\"../configs/pileupHistogram-Cert_Collisions2022_359022_362760_eraEFG_GoldenJson-13p6TeV-69200ub-99bins.root\")\n",
    "\n",
    "plot = \"num_pvs\"\n",
    "\n",
    "h1 = hists.get(\"mc_\" + plot).to_hist()\n",
    "h2 = hists.get(\"data_\" + plot).to_hist()\n",
    "h3 = pileup_hist.get(\"pileup\").to_hist()\n",
    "\n",
    "fig = plt.figure(figsize=(8, 6))\n",
    "main_ax_artists, sublot_ax_arists = h2.plot_ratio(\n",
    "    h1,\n",
    "    rp_denom_label=\"MC\",\n",
    "    rp_num_label=\"DATA\",\n",
    "    rp_uncert_draw_type=\"line\",\n",
    ")\n",
    "# main_ax_artists, sublot_ax_arists = h3.plot_ratio(\n",
    "#     h1,\n",
    "#     rp_denom_label=\"MC\",\n",
    "#     rp_num_label=\"DATA\",\n",
    "#     rp_uncert_draw_type=\"line\",\n",
    "# )"
   ]
  },
  {
   "cell_type": "code",
   "execution_count": null,
   "metadata": {},
   "outputs": [],
   "source": []
  }
 ],
 "metadata": {
  "kernelspec": {
   "display_name": "hep",
   "language": "python",
   "name": "python3"
  },
  "language_info": {
   "codemirror_mode": {
    "name": "ipython",
    "version": 3
   },
   "file_extension": ".py",
   "mimetype": "text/x-python",
   "name": "python",
   "nbconvert_exporter": "python",
   "pygments_lexer": "ipython3",
   "version": "3.11.7"
  }
 },
 "nbformat": 4,
 "nbformat_minor": 2
}
