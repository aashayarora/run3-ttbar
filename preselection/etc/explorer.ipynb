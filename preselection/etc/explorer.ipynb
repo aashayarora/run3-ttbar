{
 "cells": [
  {
   "cell_type": "code",
   "execution_count": 1,
   "metadata": {},
   "outputs": [],
   "source": [
    "import uproot\n",
    "from glob import glob\n",
    "import numpy as np\n",
    "import matplotlib.pyplot as plt\n",
    "import mplhep"
   ]
  },
  {
   "cell_type": "code",
   "execution_count": 2,
   "metadata": {},
   "outputs": [],
   "source": [
    "def print_events(file):\n",
    "    with uproot.open(file) as f:\n",
    "        events = f.get(\"Events\")\n",
    "        with open(file+\".csv\", 'w') as csvfile:\n",
    "            csvfile.write(\"run,luminosityBlock,event\\n\")\n",
    "            for i in range(len(events['run'].array())):\n",
    "                csvfile.write(str(events['run'].array()[i]) + \",\" + str(events['luminosityBlock'].array()[i]) + \",\" + str(events['event'].array()[i]) + \"\\n\")\n",
    "                # print(str(events['run'].array()[i]) + \"\\t\" + str(events['luminosityBlock'].array()[i]) + \"\\t\" + str(events['event'].array()[i]))"
   ]
  }
 ],
 "metadata": {
  "kernelspec": {
   "display_name": "hep",
   "language": "python",
   "name": "python3"
  },
  "language_info": {
   "codemirror_mode": {
    "name": "ipython",
    "version": 3
   },
   "file_extension": ".py",
   "mimetype": "text/x-python",
   "name": "python",
   "nbconvert_exporter": "python",
   "pygments_lexer": "ipython3",
   "version": "3.11.7"
  }
 },
 "nbformat": 4,
 "nbformat_minor": 2
}
